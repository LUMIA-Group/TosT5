{
 "cells": [
  {
   "cell_type": "code",
   "execution_count": 1,
   "id": "9d7537ce-7cc4-41a3-bd94-e06cd5f65276",
   "metadata": {
    "execution": {
     "iopub.execute_input": "2022-11-03T07:44:16.797719Z",
     "iopub.status.busy": "2022-11-03T07:44:16.797172Z",
     "iopub.status.idle": "2022-11-03T07:44:16.812677Z",
     "shell.execute_reply": "2022-11-03T07:44:16.811424Z",
     "shell.execute_reply.started": "2022-11-03T07:44:16.797570Z"
    },
    "tags": []
   },
   "outputs": [],
   "source": [
    "import re\n",
    "from typing import Dict, Any\n",
    "# from seq2seq.metrics.lc_quad_2.post_process import process"
   ]
  },
  {
   "cell_type": "code",
   "execution_count": null,
   "id": "4b566629-ffa2-45f4-82db-ac2f97069c67",
   "metadata": {},
   "outputs": [],
   "source": [
    "def parse_triples(sparql):\n",
    "    p1 = re.compile(r'[{](.*?)[}]', re.S)  #最小匹配\n",
    "    # p2 = re.compile(r'[{](.*)[}]', re.S)   #贪婪匹配\n",
    "    result1 = re.findall(p1, sparql)\n",
    "    # result2 = re.findall(p2, sparql)\n",
    "    # print(sparql)\n",
    "    if len(result1)>0:\n",
    "        triple_l = result1[0].strip().split(\". \")\n",
    "        triple_l = [triple.strip().replace(\" .\", \"\").strip().replace(\" \", \"\").lower() for triple in triple_l]\n",
    "        triple_s = set(triple_l)\n",
    "    else:\n",
    "        triple_s = set()\n",
    "    return triple_s\n",
    "\n",
    "\n",
    "def query_match_one(prediction, reference):\n",
    "    pred_s = parse_triples(prediction)\n",
    "    ref_s = parse_triples(reference)\n",
    "    \n",
    "    if pred_s == ref_s:\n",
    "        return 1\n",
    "    else:\n",
    "        return 0\n",
    "\n",
    "\n",
    "def compute_query_match_metric(predictions, references) -> Dict[str, Any]:\n",
    "    qm, total = 0, 0\n",
    "    for prediction, reference in zip(predictions, references):\n",
    "        # qm += query_match_one(process(prediction), process(reference[\"label\"]))\n",
    "        qm += query_match_one(prediction, reference[\"label\"])\n",
    "        total += 1\n",
    "    return {\n",
    "        \"query_match\": float(qm/total),\n",
    "    }"
   ]
  },
  {
   "cell_type": "code",
   "execution_count": null,
   "id": "9c435db3-2bec-426b-8a8f-becdc8086e43",
   "metadata": {},
   "outputs": [],
   "source": [
    "project/text2sparql/semantic/multi_task/2_random/train/train_11.02/predictions_eval_657.4232804232804.json"
   ]
  }
 ],
 "metadata": {
  "kernelspec": {
   "display_name": "Python [conda env:python37] *",
   "language": "python",
   "name": "conda-env-python37-py"
  },
  "language_info": {
   "codemirror_mode": {
    "name": "ipython",
    "version": 3
   },
   "file_extension": ".py",
   "mimetype": "text/x-python",
   "name": "python",
   "nbconvert_exporter": "python",
   "pygments_lexer": "ipython3",
   "version": "3.7.11"
  }
 },
 "nbformat": 4,
 "nbformat_minor": 5
}
