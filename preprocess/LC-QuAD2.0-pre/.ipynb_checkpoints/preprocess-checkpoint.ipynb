{
 "cells": [
  {
   "cell_type": "code",
   "execution_count": 1,
   "id": "e950c143-c601-4113-931a-cb25f528c77e",
   "metadata": {
    "execution": {
     "iopub.execute_input": "2022-11-02T10:53:53.787388Z",
     "iopub.status.busy": "2022-11-02T10:53:53.786932Z",
     "iopub.status.idle": "2022-11-02T10:53:53.978136Z",
     "shell.execute_reply": "2022-11-02T10:53:53.976953Z",
     "shell.execute_reply.started": "2022-11-02T10:53:53.787261Z"
    },
    "tags": []
   },
   "outputs": [],
   "source": [
    "import os\n",
    "import re\n",
    "import json\n",
    "from tqdm import tqdm"
   ]
  },
  {
   "cell_type": "code",
   "execution_count": 2,
   "id": "a964654f-610c-4957-917b-123b63fce210",
   "metadata": {
    "execution": {
     "iopub.execute_input": "2022-11-02T10:53:53.984265Z",
     "iopub.status.busy": "2022-11-02T10:53:53.983740Z",
     "iopub.status.idle": "2022-11-02T10:53:54.001211Z",
     "shell.execute_reply": "2022-11-02T10:53:53.999855Z",
     "shell.execute_reply.started": "2022-11-02T10:53:53.984211Z"
    },
    "tags": []
   },
   "outputs": [],
   "source": [
    "class Preprocess(object):\n",
    "    def __init__(self):\n",
    "        \n",
    "        ent_labels = json.load(open('./json/entity.json', 'rb'))\n",
    "        rel_labels = json.load(open('./json/relation.json', 'rb'))\n",
    "        \n",
    "        vocab = ['\"', '(', 'rdfs:label', 'by', 'ask', '>', 'select', 'que', 'limit', 'jai', 'mai',\n",
    "                 '?sbj', ')', 'lang', 'year', '}', '?value', 'peint', 'desc', 'where', 'ce', \n",
    "                 'distinct',  'filter', 'lcase', 'order', 'la', '<', 'asc', 'en', 'contains', \n",
    "                 'as', ',', 'strstarts',  '{', \"'\", 'j', 'count', '=', '.', '?vr0', '?vr1', \n",
    "                 '?vr2', '?vr3', '?vr4', '?vr5', '?vr6',  '?vr0_label', '?vr1_label', '?vr2_label', \n",
    "                 '?vr3_label', '?vr4_label', '?vr5_label', '?vr6_label', 'wd:', 'wdt:', 'ps:', \n",
    "                 'p:', 'pq:', '?maskvar1', '[DEF]','[Entity]', '[Relation]', 'null']\n",
    "\n",
    "        vocab_dict={}\n",
    "        for i,text in enumerate(vocab):\n",
    "            vocab_dict[text]='<extra_id_'+str(i+30)+'>'\n",
    "\n",
    "        for kk in ent_labels:\n",
    "            if ent_labels[kk] is None: ent_labels[kk] = vocab_dict['null']\n",
    "\n",
    "        self.ent_labels = ent_labels\n",
    "        self.rel_labels = rel_labels\n",
    "        self.vocab_dict = vocab_dict\n",
    "\n",
    "    \n",
    "    def process(self, wikisparql):\n",
    "        sparql = wikisparql.replace('(',' ( ').replace(')',' ) ').replace('{',' { ')\\\n",
    "        .replace('}',' } ').replace(':',': ').replace(',',' , ').replace(\"'\",\" ' \")\\\n",
    "        .replace('.',' . ').replace('=',' = ').lower()\n",
    "        sparql = ' '.join(sparql.split())    \n",
    "            \n",
    "        split = sparql.split()\n",
    "        for idx, item in enumerate(split):\n",
    "            if item in self.ent_labels:\n",
    "                split[idx] = self.ent_labels[item]\n",
    "            elif item in self.rel_labels:\n",
    "                split[idx] = self.rel_labels[item]\n",
    "\n",
    "            if item in self.vocab_dict:\n",
    "                split[idx] = self.vocab_dict[item]\n",
    "        \n",
    "        return ' '.join(split).strip()\n",
    "        \n",
    "    def _preprocess(self, data):\n",
    "        # res = {'input': self.process(data['input']), 'target': self.process(data['target'])}\n",
    "\n",
    "        return {'input': self.process(data['input']), 'target': self.process(data['target'])}"
   ]
  },
  {
   "cell_type": "code",
   "execution_count": 3,
   "id": "2638d45f-c961-4787-8dd4-776c157acc28",
   "metadata": {
    "execution": {
     "iopub.execute_input": "2022-11-02T10:53:54.002722Z",
     "iopub.status.busy": "2022-11-02T10:53:54.002452Z",
     "iopub.status.idle": "2022-11-02T10:53:54.239456Z",
     "shell.execute_reply": "2022-11-02T10:53:54.238193Z",
     "shell.execute_reply.started": "2022-11-02T10:53:54.002693Z"
    },
    "tags": []
   },
   "outputs": [],
   "source": [
    "test_data = json.load(open('./json/flip_test.json', 'rb'))\n",
    "train_data = json.load(open('./json/flip_train.json', 'rb'))"
   ]
  },
  {
   "cell_type": "code",
   "execution_count": 5,
   "id": "09b883c9-0010-47b8-95e2-f9536e0fda73",
   "metadata": {
    "execution": {
     "iopub.execute_input": "2022-11-02T10:54:02.024797Z",
     "iopub.status.busy": "2022-11-02T10:54:02.024428Z",
     "iopub.status.idle": "2022-11-02T10:54:02.154141Z",
     "shell.execute_reply": "2022-11-02T10:54:02.153286Z",
     "shell.execute_reply.started": "2022-11-02T10:54:02.024757Z"
    },
    "tags": []
   },
   "outputs": [],
   "source": [
    "pre = Preprocess()\n",
    "\n",
    "path = '../../transform/transformers_cache/downloads/LC-QuAD2.0-pre/dataset'"
   ]
  },
  {
   "cell_type": "code",
   "execution_count": 8,
   "id": "0a0b330e-7cd8-4157-8bda-c4ac66a38867",
   "metadata": {
    "execution": {
     "iopub.execute_input": "2022-11-02T10:55:23.165382Z",
     "iopub.status.busy": "2022-11-02T10:55:23.164958Z",
     "iopub.status.idle": "2022-11-02T10:55:23.977213Z",
     "shell.execute_reply": "2022-11-02T10:55:23.975979Z",
     "shell.execute_reply.started": "2022-11-02T10:55:23.165331Z"
    },
    "tags": []
   },
   "outputs": [
    {
     "name": "stderr",
     "output_type": "stream",
     "text": [
      "100%|██████████| 24180/24180 [00:00<00:00, 31656.27it/s]\n"
     ]
    }
   ],
   "source": [
    "train = [pre._preprocess(item) for item in tqdm(train_data)]\n",
    "\n",
    "with open(f'{path}/train.json','w+') as file:\n",
    "    file.write(json.dumps(train, indent=2))"
   ]
  },
  {
   "cell_type": "code",
   "execution_count": 9,
   "id": "ef63742f-d679-460e-ac0a-b44286dca5df",
   "metadata": {
    "execution": {
     "iopub.execute_input": "2022-10-23T16:01:07.106605Z",
     "iopub.status.busy": "2022-10-23T16:01:07.106212Z",
     "iopub.status.idle": "2022-10-23T16:01:07.359146Z",
     "shell.execute_reply": "2022-10-23T16:01:07.358252Z",
     "shell.execute_reply.started": "2022-10-23T16:01:07.106554Z"
    },
    "scrolled": true,
    "tags": []
   },
   "outputs": [
    {
     "name": "stderr",
     "output_type": "stream",
     "text": [
      "100%|██████████| 6046/6046 [00:00<00:00, 36105.13it/s]\n"
     ]
    }
   ],
   "source": [
    "test = [pre._preprocess(item) for item in tqdm(test_data)]\n",
    "\n",
    "with open(f'{path}/test.json','w+') as file:\n",
    "    file.write(json.dumps(test, indent=2))"
   ]
  },
  {
   "cell_type": "code",
   "execution_count": 33,
   "id": "af4d4a94-bbb8-40da-a715-fd8ce1c2c10a",
   "metadata": {
    "execution": {
     "iopub.execute_input": "2022-10-23T15:57:41.188854Z",
     "iopub.status.busy": "2022-10-23T15:57:41.188435Z",
     "iopub.status.idle": "2022-10-23T15:57:41.198339Z",
     "shell.execute_reply": "2022-10-23T15:57:41.196780Z",
     "shell.execute_reply.started": "2022-10-23T15:57:41.188803Z"
    },
    "tags": []
   },
   "outputs": [
    {
     "data": {
      "text/plain": [
       "{'input': '<extra_id_6> <extra_id_21> <extra_id_39> <extra_id_19> <extra_id_33> <extra_id_53> manticore <extra_id_54> Theoi Project ID <extra_id_39> <extra_id_15>',\n",
       " 'target': '<extra_id_6> <extra_id_21> <extra_id_39> <extra_id_19> <extra_id_33> <extra_id_53> manticore <extra_id_54> Theoi Project ID <extra_id_39> <extra_id_15>'}"
      ]
     },
     "execution_count": 33,
     "metadata": {},
     "output_type": "execute_result"
    }
   ],
   "source": [
    "res"
   ]
  },
  {
   "cell_type": "code",
   "execution_count": null,
   "id": "1eb90169-2446-4920-ab28-f6687e5344fc",
   "metadata": {},
   "outputs": [],
   "source": []
  },
  {
   "cell_type": "code",
   "execution_count": 13,
   "id": "9a4a064a-563a-4310-a142-7a4a00e7724a",
   "metadata": {
    "execution": {
     "iopub.execute_input": "2022-10-24T02:13:25.517141Z",
     "iopub.status.busy": "2022-10-24T02:13:25.516730Z",
     "iopub.status.idle": "2022-10-24T02:13:25.539190Z",
     "shell.execute_reply": "2022-10-24T02:13:25.538315Z",
     "shell.execute_reply.started": "2022-10-24T02:13:25.517089Z"
    },
    "tags": []
   },
   "outputs": [
    {
     "data": {
      "text/plain": [
       "17508"
      ]
     },
     "execution_count": 13,
     "metadata": {},
     "output_type": "execute_result"
    }
   ],
   "source": [
    "count = 0\n",
    "for item in train_data:\n",
    "    if item['input'] != item['target']:\n",
    "        count += 1\n",
    "count"
   ]
  },
  {
   "cell_type": "code",
   "execution_count": 14,
   "id": "aa7fed1b-fe4e-4308-a96e-b7cd192fad93",
   "metadata": {
    "execution": {
     "iopub.execute_input": "2022-10-24T02:13:26.699375Z",
     "iopub.status.busy": "2022-10-24T02:13:26.699142Z",
     "iopub.status.idle": "2022-10-24T02:13:26.705928Z",
     "shell.execute_reply": "2022-10-24T02:13:26.705018Z",
     "shell.execute_reply.started": "2022-10-24T02:13:26.699347Z"
    },
    "tags": []
   },
   "outputs": [
    {
     "data": {
      "text/plain": [
       "0.7240694789081886"
      ]
     },
     "execution_count": 14,
     "metadata": {},
     "output_type": "execute_result"
    }
   ],
   "source": [
    "count/len(train_data)"
   ]
  }
 ],
 "metadata": {
  "kernelspec": {
   "display_name": "Python [conda env:python37] *",
   "language": "python",
   "name": "conda-env-python37-py"
  },
  "language_info": {
   "codemirror_mode": {
    "name": "ipython",
    "version": 3
   },
   "file_extension": ".py",
   "mimetype": "text/x-python",
   "name": "python",
   "nbconvert_exporter": "python",
   "pygments_lexer": "ipython3",
   "version": "3.7.11"
  }
 },
 "nbformat": 4,
 "nbformat_minor": 5
}
